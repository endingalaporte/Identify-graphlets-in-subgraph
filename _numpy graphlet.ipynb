{
 "cells": [
  {
   "cell_type": "code",
   "execution_count": 491,
   "id": "intermediate-benjamin",
   "metadata": {},
   "outputs": [],
   "source": [
    "#functions to manipulate graphlets and identify them\n",
    "\n",
    "import graph_tool as gt\n",
    "import numpy as np\n",
    "import graph_tool.generation as gtg\n",
    "import random\n",
    "import graph_tool.draw as gtd\n",
    "import graph_tool.spectral as gts\n",
    "\n",
    "import networkx as nx #only for graph generator\n",
    "\n",
    "def random_adj(nb_nodes): \n",
    "    \"\"\"returns an adjancency matrices of nb_nodes each\"\"\"\n",
    "    A = np.random.randint(0,2, size = nb_nodes**2).reshape(nb_nodes,nb_nodes)\n",
    "    np.fill_diagonal(A, 0)\n",
    "    for i in range(nb_nodes):\n",
    "        for j in range(nb_nodes):\n",
    "            A[i,j] = A[j,i]\n",
    "    return A\n",
    "\n",
    "def generate_allconnected_nomultiedge(size):\n",
    "    \"\"\"generate all-connected non-multiedge graph of size-number of nodes\"\"\"\n",
    "    connected = False\n",
    "    while connected == False:\n",
    "        A = random_adj(size)\n",
    "        g = nx.convert_matrix.from_numpy_matrix(A)\n",
    "        connected = nx.is_connected(g)\n",
    "            \n",
    "    e = list(nx.generate_edgelist(g, data = False)) #generates edgelist with vertex from 0 to (size-1)\n",
    "    edge = []\n",
    "    for i in range(len(e)):\n",
    "        edge.append([int(e[i][0]), int(e[i][2])])\n",
    "    g_return = gt.Graph(directed = False)\n",
    "    g_return.add_edge_list(edge)\n",
    "    return g_return\n",
    "\n",
    "def P(G : gt.Graph()):\n",
    "    \"\"\"for given graphG, gives profile vector P of 5 integers\"\"\"\n",
    "    V = len(tuple(G.vertices()))\n",
    "    E = len(tuple(G.edges()))\n",
    "    deg_dist = np.array([v.in_degree() + v.out_degree() for v in G.vertices()]) #if return it, P depends variant of numerotation\n",
    "    min_deg = deg_dist.min()\n",
    "    max_deg = deg_dist.max()\n",
    "    total_deg = deg_dist.sum()\n",
    "    #we will should not forget that for same graph G deg_dist depends on G nodes' numerotation\n",
    "    #on the other hand, first five indicators are independant of G nodes' numerotation\n",
    "    gtd.graph_draw(G, output_size = (50,50))\n",
    "    return(np.array([V,E,min_deg,max_deg, total_deg]))\n",
    "\n",
    "def T(array : np.array):\n",
    "    \"\"\"for given profile vector P of integers, return print identified graphlet\"\"\"\n",
    "    V = array[0]\n",
    "    E = array[1]\n",
    "    min_deg = array[2]\n",
    "    max_deg = array[3]\n",
    "    total_deg = array[4]\n",
    "    autre = 1\n",
    "    if V == 2 and E == 1:\n",
    "        bingo = 'G0'\n",
    "        autre = 0\n",
    "    if V == 3 and E == 2:\n",
    "        bingo = 'G1'\n",
    "        autre = 0\n",
    "    if V == 3 and E == 3:\n",
    "        bingo = 'G2'\n",
    "        autre = 0\n",
    "    if V == 4 and E == 3 and max_deg == 3: #not sure if these are the only three necessary conditions to identify G4\n",
    "        bingo = 'G4'\n",
    "        autre = 0\n",
    "    if V == 4 and E == 4 and min_deg == 1 and max_deg == 3:\n",
    "        bingo = 'G6'\n",
    "        autre = 0\n",
    "    if V == 4 and E == 5 and min_deg == 2 and max_deg == 3:\n",
    "        bingo = 'G7'\n",
    "        autre = 0\n",
    "    if V == 4 and E == 6:\n",
    "        bingo = 'G9'\n",
    "        autre = 0\n",
    "    if V == 5 and E == 6 and min_deg == 2 and max_deg == 3:\n",
    "        bingo = 'G21'\n",
    "        autre = 0\n",
    "    if autre == 1:\n",
    "        bingo = \"unidentified graphlet\"\n",
    "    print(bingo)\n",
    "    return(bingo)\n"
   ]
  },
  {
   "cell_type": "code",
   "execution_count": 507,
   "id": "august-argentina",
   "metadata": {
    "scrolled": false
   },
   "outputs": [
    {
     "data": {
      "text/plain": [
       "array([[0, 0, 0],\n",
       "       [0, 0, 1],\n",
       "       [0, 1, 0]])"
      ]
     },
     "execution_count": 507,
     "metadata": {},
     "output_type": "execute_result"
    }
   ],
   "source": [
    "#given integers k number of nodes, and n number of graphs, returns array of n adjacency matrices of k node graphlets\n",
    "random_adj(3)"
   ]
  },
  {
   "cell_type": "code",
   "execution_count": 508,
   "id": "neutral-settle",
   "metadata": {},
   "outputs": [],
   "source": [
    "#given integer k, returns an all connected non multiedge graph_tool graph of k nodes\n",
    "G = generate_allconnected_nomultiedge(3)"
   ]
  },
  {
   "cell_type": "code",
   "execution_count": 513,
   "id": "balanced-secondary",
   "metadata": {},
   "outputs": [
    {
     "data": {
      "image/png": "[encoded data removed]",
      "text/plain": [
       "<IPython.core.display.Image object>"
      ]
     },
     "metadata": {},
     "output_type": "display_data"
    },
    {
     "data": {
      "text/plain": [
       "array([3, 2, 1, 2, 4])"
      ]
     },
     "execution_count": 513,
     "metadata": {},
     "output_type": "execute_result"
    }
   ],
   "source": [
    "#given graph_tool graph, returns 5 integers that are the graphlet's profile characteristics\n",
    "\n",
    "profile = P(G)\n",
    "profile"
   ]
  },
  {
   "cell_type": "code",
   "execution_count": 514,
   "id": "impressed-canberra",
   "metadata": {},
   "outputs": [
    {
     "name": "stdout",
     "output_type": "stream",
     "text": [
      "G1\n"
     ]
    },
    {
     "data": {
      "text/plain": [
       "'G1'"
      ]
     },
     "execution_count": 514,
     "metadata": {},
     "output_type": "execute_result"
    }
   ],
   "source": [
    "#T returns graphlet name, given graphlet's profile characteristics\n",
    "T(np.array(profile))"
   ]
  },
  {
   "cell_type": "code",
   "execution_count": 515,
   "id": "viral-wonder",
   "metadata": {},
   "outputs": [
    {
     "data": {
      "image/png": "[encoded data removed]",
      "text/plain": [
       "<IPython.core.display.Image object>"
      ]
     },
     "metadata": {},
     "output_type": "display_data"
    },
    {
     "name": "stdout",
     "output_type": "stream",
     "text": [
      "G1\n"
     ]
    },
    {
     "data": {
      "text/plain": [
       "'G1'"
      ]
     },
     "execution_count": 515,
     "metadata": {},
     "output_type": "execute_result"
    }
   ],
   "source": [
    "#given graph_tool graph, returns graphlet name  \n",
    "T(P(G))"
   ]
  },
  {
   "cell_type": "code",
   "execution_count": 517,
   "id": "mysterious-convergence",
   "metadata": {},
   "outputs": [
    {
     "data": {
      "image/png": "[encoded data removed]",
      "text/plain": [
       "<IPython.core.display.Image object>"
      ]
     },
     "metadata": {},
     "output_type": "display_data"
    },
    {
     "name": "stdout",
     "output_type": "stream",
     "text": [
      "G0\n"
     ]
    },
    {
     "data": {
      "image/png": "[encoded data removed]",
      "text/plain": [
       "<IPython.core.display.Image object>"
      ]
     },
     "metadata": {},
     "output_type": "display_data"
    },
    {
     "name": "stdout",
     "output_type": "stream",
     "text": [
      "G1\n"
     ]
    },
    {
     "data": {
      "image/png": "[encoded data removed]",
      "text/plain": [
       "<IPython.core.display.Image object>"
      ]
     },
     "metadata": {},
     "output_type": "display_data"
    },
    {
     "name": "stdout",
     "output_type": "stream",
     "text": [
      "G4\n"
     ]
    },
    {
     "data": {
      "image/png": "[encoded data removed]",
      "text/plain": [
       "<IPython.core.display.Image object>"
      ]
     },
     "metadata": {},
     "output_type": "display_data"
    },
    {
     "name": "stdout",
     "output_type": "stream",
     "text": [
      "unidentified graphlet\n"
     ]
    },
    {
     "data": {
      "image/png": "[encoded data removed]",
      "text/plain": [
       "<IPython.core.display.Image object>"
      ]
     },
     "metadata": {},
     "output_type": "display_data"
    },
    {
     "name": "stdout",
     "output_type": "stream",
     "text": [
      "G0\n"
     ]
    },
    {
     "data": {
      "image/png": "[encoded data removed]",
      "text/plain": [
       "<IPython.core.display.Image object>"
      ]
     },
     "metadata": {},
     "output_type": "display_data"
    },
    {
     "name": "stdout",
     "output_type": "stream",
     "text": [
      "G1\n"
     ]
    },
    {
     "data": {
      "image/png": "[encoded data removed]",
      "text/plain": [
       "<IPython.core.display.Image object>"
      ]
     },
     "metadata": {},
     "output_type": "display_data"
    },
    {
     "name": "stdout",
     "output_type": "stream",
     "text": [
      "G4\n"
     ]
    },
    {
     "data": {
      "image/png": "[encoded data removed]",
      "text/plain": [
       "<IPython.core.display.Image object>"
      ]
     },
     "metadata": {},
     "output_type": "display_data"
    },
    {
     "name": "stdout",
     "output_type": "stream",
     "text": [
      "unidentified graphlet\n"
     ]
    },
    {
     "data": {
      "image/png": "[encoded data removed]",
      "text/plain": [
       "<IPython.core.display.Image object>"
      ]
     },
     "metadata": {},
     "output_type": "display_data"
    },
    {
     "name": "stdout",
     "output_type": "stream",
     "text": [
      "G0\n"
     ]
    },
    {
     "data": {
      "image/png": "[encoded data removed]",
      "text/plain": [
       "<IPython.core.display.Image object>"
      ]
     },
     "metadata": {},
     "output_type": "display_data"
    },
    {
     "name": "stdout",
     "output_type": "stream",
     "text": [
      "G1\n"
     ]
    },
    {
     "data": {
      "image/png": "[encoded data removed]",
      "text/plain": [
       "<IPython.core.display.Image object>"
      ]
     },
     "metadata": {},
     "output_type": "display_data"
    },
    {
     "name": "stdout",
     "output_type": "stream",
     "text": [
      "G6\n"
     ]
    },
    {
     "data": {
      "image/png": "[encoded data removed]",
      "text/plain": [
       "<IPython.core.display.Image object>"
      ]
     },
     "metadata": {},
     "output_type": "display_data"
    },
    {
     "name": "stdout",
     "output_type": "stream",
     "text": [
      "unidentified graphlet\n"
     ]
    },
    {
     "data": {
      "image/png": "[encoded data removed]",
      "text/plain": [
       "<IPython.core.display.Image object>"
      ]
     },
     "metadata": {},
     "output_type": "display_data"
    },
    {
     "name": "stdout",
     "output_type": "stream",
     "text": [
      "G0\n"
     ]
    },
    {
     "data": {
      "image/png": "[encoded data removed]",
      "text/plain": [
       "<IPython.core.display.Image object>"
      ]
     },
     "metadata": {},
     "output_type": "display_data"
    },
    {
     "name": "stdout",
     "output_type": "stream",
     "text": [
      "G1\n"
     ]
    },
    {
     "data": {
      "image/png": "[encoded data removed]",
      "text/plain": [
       "<IPython.core.display.Image object>"
      ]
     },
     "metadata": {},
     "output_type": "display_data"
    },
    {
     "name": "stdout",
     "output_type": "stream",
     "text": [
      "G7\n"
     ]
    },
    {
     "data": {
      "image/png": "[encoded data removed]",
      "text/plain": [
       "<IPython.core.display.Image object>"
      ]
     },
     "metadata": {},
     "output_type": "display_data"
    },
    {
     "name": "stdout",
     "output_type": "stream",
     "text": [
      "unidentified graphlet\n"
     ]
    },
    {
     "data": {
      "image/png": "[encoded data removed]",
      "text/plain": [
       "<IPython.core.display.Image object>"
      ]
     },
     "metadata": {},
     "output_type": "display_data"
    },
    {
     "name": "stdout",
     "output_type": "stream",
     "text": [
      "G0\n"
     ]
    },
    {
     "data": {
      "image/png": "[encoded data removed]",
      "text/plain": [
       "<IPython.core.display.Image object>"
      ]
     },
     "metadata": {},
     "output_type": "display_data"
    },
    {
     "name": "stdout",
     "output_type": "stream",
     "text": [
      "G1\n"
     ]
    },
    {
     "data": {
      "image/png": "[encoded data removed]",
      "text/plain": [
       "<IPython.core.display.Image object>"
      ]
     },
     "metadata": {},
     "output_type": "display_data"
    },
    {
     "name": "stdout",
     "output_type": "stream",
     "text": [
      "G6\n"
     ]
    },
    {
     "data": {
      "image/png": "[encoded data removed]",
      "text/plain": [
       "<IPython.core.display.Image object>"
      ]
     },
     "metadata": {},
     "output_type": "display_data"
    },
    {
     "name": "stdout",
     "output_type": "stream",
     "text": [
      "unidentified graphlet\n"
     ]
    },
    {
     "data": {
      "image/png": "[encoded data removed]",
      "text/plain": [
       "<IPython.core.display.Image object>"
      ]
     },
     "metadata": {},
     "output_type": "display_data"
    },
    {
     "name": "stdout",
     "output_type": "stream",
     "text": [
      "G0\n"
     ]
    },
    {
     "data": {
      "image/png": "[encoded data removed]",
      "text/plain": [
       "<IPython.core.display.Image object>"
      ]
     },
     "metadata": {},
     "output_type": "display_data"
    },
    {
     "name": "stdout",
     "output_type": "stream",
     "text": [
      "G1\n"
     ]
    },
    {
     "data": {
      "image/png": "[encoded data removed]",
      "text/plain": [
       "<IPython.core.display.Image object>"
      ]
     },
     "metadata": {},
     "output_type": "display_data"
    },
    {
     "name": "stdout",
     "output_type": "stream",
     "text": [
      "unidentified graphlet\n"
     ]
    },
    {
     "data": {
      "image/png": "[encoded data removed]",
      "text/plain": [
       "<IPython.core.display.Image object>"
      ]
     },
     "metadata": {},
     "output_type": "display_data"
    },
    {
     "name": "stdout",
     "output_type": "stream",
     "text": [
      "unidentified graphlet\n"
     ]
    },
    {
     "data": {
      "image/png": "[encoded data removed]",
      "text/plain": [
       "<IPython.core.display.Image object>"
      ]
     },
     "metadata": {},
     "output_type": "display_data"
    },
    {
     "name": "stdout",
     "output_type": "stream",
     "text": [
      "G0\n"
     ]
    },
    {
     "data": {
      "image/png": "[encoded data removed]",
      "text/plain": [
       "<IPython.core.display.Image object>"
      ]
     },
     "metadata": {},
     "output_type": "display_data"
    },
    {
     "name": "stdout",
     "output_type": "stream",
     "text": [
      "G2\n"
     ]
    },
    {
     "data": {
      "image/png": "[encoded data removed]",
      "text/plain": [
       "<IPython.core.display.Image object>"
      ]
     },
     "metadata": {},
     "output_type": "display_data"
    },
    {
     "name": "stdout",
     "output_type": "stream",
     "text": [
      "unidentified graphlet\n"
     ]
    },
    {
     "data": {
      "image/png": "[encoded data removed]",
      "text/plain": [
       "<IPython.core.display.Image object>"
      ]
     },
     "metadata": {},
     "output_type": "display_data"
    },
    {
     "name": "stdout",
     "output_type": "stream",
     "text": [
      "unidentified graphlet\n"
     ]
    },
    {
     "data": {
      "image/png": "[encoded data removed]",
      "text/plain": [
       "<IPython.core.display.Image object>"
      ]
     },
     "metadata": {},
     "output_type": "display_data"
    },
    {
     "name": "stdout",
     "output_type": "stream",
     "text": [
      "G0\n"
     ]
    },
    {
     "data": {
      "image/png": "[encoded data removed]",
      "text/plain": [
       "<IPython.core.display.Image object>"
      ]
     },
     "metadata": {},
     "output_type": "display_data"
    },
    {
     "name": "stdout",
     "output_type": "stream",
     "text": [
      "G1\n"
     ]
    },
    {
     "data": {
      "image/png": "[encoded data removed]",
      "text/plain": [
       "<IPython.core.display.Image object>"
      ]
     },
     "metadata": {},
     "output_type": "display_data"
    },
    {
     "name": "stdout",
     "output_type": "stream",
     "text": [
      "G6\n"
     ]
    },
    {
     "data": {
      "image/png": "[encoded data removed]",
      "text/plain": [
       "<IPython.core.display.Image object>"
      ]
     },
     "metadata": {},
     "output_type": "display_data"
    },
    {
     "name": "stdout",
     "output_type": "stream",
     "text": [
      "unidentified graphlet\n"
     ]
    },
    {
     "data": {
      "image/png": "[encoded data removed]",
      "text/plain": [
       "<IPython.core.display.Image object>"
      ]
     },
     "metadata": {},
     "output_type": "display_data"
    },
    {
     "name": "stdout",
     "output_type": "stream",
     "text": [
      "G0\n"
     ]
    },
    {
     "data": {
      "image/png": "[encoded data removed]",
      "text/plain": [
       "<IPython.core.display.Image object>"
      ]
     },
     "metadata": {},
     "output_type": "display_data"
    },
    {
     "name": "stdout",
     "output_type": "stream",
     "text": [
      "G1\n"
     ]
    },
    {
     "data": {
      "image/png": "[encoded data removed]",
      "text/plain": [
       "<IPython.core.display.Image object>"
      ]
     },
     "metadata": {},
     "output_type": "display_data"
    },
    {
     "name": "stdout",
     "output_type": "stream",
     "text": [
      "G6\n"
     ]
    },
    {
     "data": {
      "image/png": "[encoded data removed]",
      "text/plain": [
       "<IPython.core.display.Image object>"
      ]
     },
     "metadata": {},
     "output_type": "display_data"
    },
    {
     "name": "stdout",
     "output_type": "stream",
     "text": [
      "unidentified graphlet\n"
     ]
    },
    {
     "data": {
      "image/png": "[encoded data removed]",
      "text/plain": [
       "<IPython.core.display.Image object>"
      ]
     },
     "metadata": {},
     "output_type": "display_data"
    },
    {
     "name": "stdout",
     "output_type": "stream",
     "text": [
      "G0\n"
     ]
    },
    {
     "data": {
      "image/png": "[encoded data removed]",
      "text/plain": [
       "<IPython.core.display.Image object>"
      ]
     },
     "metadata": {},
     "output_type": "display_data"
    },
    {
     "name": "stdout",
     "output_type": "stream",
     "text": [
      "G1\n"
     ]
    },
    {
     "data": {
      "image/png": "[encoded data removed]",
      "text/plain": [
       "<IPython.core.display.Image object>"
      ]
     },
     "metadata": {},
     "output_type": "display_data"
    },
    {
     "name": "stdout",
     "output_type": "stream",
     "text": [
      "G7\n"
     ]
    },
    {
     "data": {
      "image/png": "[encoded data removed]",
      "text/plain": [
       "<IPython.core.display.Image object>"
      ]
     },
     "metadata": {},
     "output_type": "display_data"
    },
    {
     "name": "stdout",
     "output_type": "stream",
     "text": [
      "unidentified graphlet\n",
      "there are  12 unidentified graphlets\n",
      "which is 70 percents of identified, including those wrongly identified\n",
      "duration is =  6 s\n"
     ]
    }
   ],
   "source": [
    "#generate many graphlets and identify them\n",
    "\n",
    "import time\n",
    "\n",
    "s = time.time()\n",
    "sample = 10 # number of graphlets\n",
    "k = 5       #2 < k number of nodes in graphlets\n",
    "\n",
    "unidentified = 0\n",
    "for g in range(sample):\n",
    "    for nodes in range(2,k+1):\n",
    "        if T(P(generate_allconnected_nomultiedge(nodes))) == 'unidentified graphlet':\n",
    "            unidentified = unidentified + 1\n",
    "            \n",
    "print(\"there are \",unidentified,\"unidentified graphlets\")\n",
    "print(\"which is\",int((1-(unidentified/(sample*(k-1))))*100),\"percents of identified, including those wrongly identified\")\n",
    "print(\"duration is = \",int(time.time()-s),\"s\")"
   ]
  },
  {
   "cell_type": "code",
   "execution_count": null,
   "id": "universal-worst",
   "metadata": {},
   "outputs": [],
   "source": []
  },
  {
   "cell_type": "code",
   "execution_count": null,
   "id": "suburban-frequency",
   "metadata": {},
   "outputs": [],
   "source": []
  },
  {
   "cell_type": "code",
   "execution_count": null,
   "id": "modern-scroll",
   "metadata": {},
   "outputs": [],
   "source": []
  },
  {
   "cell_type": "code",
   "execution_count": null,
   "id": "young-hudson",
   "metadata": {},
   "outputs": [],
   "source": []
  },
  {
   "cell_type": "code",
   "execution_count": 488,
   "id": "basic-hebrew",
   "metadata": {},
   "outputs": [],
   "source": [
    "#TRASH, functions that don't generate all connected non multiedge graphs\n",
    "\n",
    "def generate_graphlet(nb_nodes): #PROBLEM generate multi-edge graphs whereas I want no multi-edge..\n",
    "    \"\"\"generate graphlet object G from nb_nodes\"\"\"\n",
    "    \"\"\"undirected, no parrallel_edges edges, max degree is 3\"\"\"\n",
    "    def deg(): #degree distribution is imposed here, in contradiction with parrallel_edges property imposed as well\n",
    "        if nb_nodes == 2:\n",
    "            array = np.array([int(random.random()*1.5) for i in range(nb_nodes)])\n",
    "        if nb_nodes == 3:\n",
    "            array = np.array([int(random.random()*1.5+1) for i in range(nb_nodes)])\n",
    "        if nb_nodes == 4:\n",
    "            array = np.array([int(random.random()*1.5+1) for i in range(nb_nodes)])\n",
    "        if nb_nodes == 5:\n",
    "            array = np.array([int(random.random()*1.5+1) for i in range(nb_nodes)])\n",
    "        return array\n",
    "                #np.array([int(random.random()*(nb_nodes/2)+1) for i in range(nb_nodes)])\n",
    "                #np.array([int(random.random()*1.5+1) for i in range(nb_nodes)])\n",
    "    G = gtg.random_graph(nb_nodes, deg, parallel_edges = False)\n",
    "    G.set_directed(False)\n",
    "    #gtd.graph_draw(G, output_size = (50,50))\n",
    "    #A = gts.adjacency(G).todense()\n",
    "    return G\n",
    "\n",
    "def generate_n_graphlets(nb_nodes,many):\n",
    "    \"\"\"generate np_nodes-nodes graph_tool graphlets many-time objects, return the list array of objects\"\"\"\n",
    "    many_graphlets = np.array([generate_graphlet(nb_nodes) for i in range(many)], dtype = object)\n",
    "    return(many_graphlets)\n",
    "\n",
    "\n",
    "def random_n_adj(nb_nodes, n): \n",
    "    \"\"\"returns n adjancency matrices of nb_nodes each\"\"\"\n",
    "    n_A = [random_adj(nb_nodes) for i in range(n)]\n",
    "    return n_A\n",
    "\n",
    "def generate_2345_graphlets(n):\n",
    "    \"\"\"generate 4*n 2,3,4,5-node graphlets, return then in array of objects\"\"\"\n",
    "    array_2345_graphs = np.concatenate([generate_n_graphlets(n,i) for i in range(2,6)])\n",
    "    return array_2345_graphs\n",
    "\n",
    "def percentage_identified(n):\n",
    "    \"\"\"generate n sample of each k-node graphlet for k=2,3,4,5, identify them, show percentage of identified\"\"\"\n",
    "    #n samples of each k-graphlet\n",
    "    win = []\n",
    "    for i in range(len(generate_2345_graphlets(n))):\n",
    "        if T(P(generate_2345_graphlets(n)[i])) != \"unidentified graph\":\n",
    "            win.append(1)\n",
    "    print(int(np.array(win).sum()/len(generate_2345_graphlets(n))*100), \"%\")\n",
    "    return(int(np.array(win).sum()/len(generate_2345_graphlets(n))*100))\n",
    "\n",
    "def generator_no_multiedge(size):\n",
    "    \"\"\"generate graph_tool graph of size-number of nodes with multi-edges\"\"\"  \n",
    "    A = random_n_adj(size,1)[0]\n",
    "    g = nx.convert_matrix.from_numpy_matrix(A)\n",
    "    e = list(nx.generate_edgelist(g, data = False)) #generates edgelist with vertex from 0 to (size-1)\n",
    "    edge = []\n",
    "    for i in range(len(e)):\n",
    "            edge.append([int(e[i][0]), int(e[i][2])])\n",
    "    G = gt.Graph(directed = False)\n",
    "    G.add_edge_list(edge)\n",
    "    return G\n"
   ]
  }
 ],
 "metadata": {
  "kernelspec": {
   "display_name": "Python 3",
   "language": "python",
   "name": "python3"
  }
 },
 "nbformat": 4,
 "nbformat_minor": 5
}
