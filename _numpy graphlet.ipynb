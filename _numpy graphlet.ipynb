{
 "cells": [
  {
   "cell_type": "code",
   "execution_count": 57,
   "id": "practical-efficiency",
   "metadata": {},
   "outputs": [],
   "source": [
    "#functions to manipulate graphlets and identify them\n",
    "\n",
    "import graph_tool as gt\n",
    "import numpy as np\n",
    "import graph_tool.generation as gtg\n",
    "import random\n",
    "import graph_tool.draw as gtd\n",
    "import graph_tool.spectral as gts\n",
    "\n",
    "def random_adj(nb_nodes): \n",
    "    \"\"\"returns an adjancency matrices of nb_nodes each\"\"\"\n",
    "    A = np.random.randint(0,2, size = nb_nodes**2).reshape(nb_nodes,nb_nodes)\n",
    "    np.fill_diagonal(A, 0)\n",
    "    for i in range(nb_nodes):\n",
    "        for j in range(nb_nodes):\n",
    "            A[i,j] = A[j,i]\n",
    "    return A\n",
    "\n",
    "def random_n_adj(nb_nodes, n): \n",
    "    \"\"\"returns n adjancency matrices of nb_nodes each\"\"\"\n",
    "    n_A = [random_adj(nb_nodes) for i in range(n)]\n",
    "    return n_A\n",
    "\n",
    "def generate_graphlet(nb_nodes): #PROBLEM generate multi-edge graphs whereas I want no multi-edge..\n",
    "    \"\"\"generate graphlet object G from nb_nodes\"\"\"\n",
    "    \"\"\"undirected, no parrallel_edges edges, max degree is 3\"\"\"\n",
    "    def deg(): #degree distribution is imposed here, in contradiction with parrallel_edges property imposed as well\n",
    "        if nb_nodes == 2:\n",
    "            array = np.array([int(random.random()*1.5) for i in range(nb_nodes)])\n",
    "        if nb_nodes == 3:\n",
    "            array = np.array([int(random.random()*1.5+1) for i in range(nb_nodes)])\n",
    "        if nb_nodes == 4:\n",
    "            array = np.array([int(random.random()*1.5+1) for i in range(nb_nodes)])\n",
    "        if nb_nodes == 5:\n",
    "            array = np.array([int(random.random()*1.5+1) for i in range(nb_nodes)])\n",
    "        return array\n",
    "                #np.array([int(random.random()*(nb_nodes/2)+1) for i in range(nb_nodes)])\n",
    "                #np.array([int(random.random()*1.5+1) for i in range(nb_nodes)])\n",
    "    G = gtg.random_graph(nb_nodes, deg, parallel_edges = False)\n",
    "    G.set_directed(False)\n",
    "    #gtd.graph_draw(G, output_size = (50,50))\n",
    "    #A = gts.adjacency(G).todense()\n",
    "    return G\n",
    "\n",
    "def generate_n_graphlets(nb_nodes,many):\n",
    "    \"\"\"generate np_nodes-nodes graph_tool graphlets many-time objects, return the list array of objects\"\"\"\n",
    "    many_graphlets = np.array([generate_graphlet(nb_nodes) for i in range(many)], dtype = object)\n",
    "    return(many_graphlets)\n",
    "\n",
    "def generate_2345_graphlets(n):\n",
    "    \"\"\"generate 4*n 2,3,4,5-node graphlets, return then in array of objects\"\"\"\n",
    "    array_2345_graphs = np.concatenate([generate_n_graphlets(n,i) for i in range(2,6)])\n",
    "    return array_2345_graphs\n",
    "\n",
    "def P(G : gt.Graph()):\n",
    "    \"\"\"for given G, gives profile vector P of 5 elements\"\"\"\n",
    "    V = len(tuple(G.vertices()))\n",
    "    E = len(tuple(G.edges()))\n",
    "    deg_dist = np.array([v.in_degree() + v.out_degree() for v in G.vertices()]) #if return it, P depends variant of numerotation\n",
    "    min_deg = deg_dist.min()\n",
    "    max_deg = deg_dist.max()\n",
    "    total_deg = deg_dist.sum()\n",
    "    #we will should not forget that for same graph G deg_dist depends on G nodes' numerotation\n",
    "    #on the other hand, first five indicators are independant of G nodes' numerotation\n",
    "    gtd.graph_draw(G, output_size = (50,50))\n",
    "    return(np.array([V,E,min_deg,max_deg, total_deg]))\n",
    "\n",
    "def T(array : np.array):\n",
    "    \"\"\"for given profile vector P, return print identified graphlet\"\"\"\n",
    "    V = array[0]\n",
    "    E = array[1]\n",
    "    min_deg = array[2]\n",
    "    max_deg = array[3]\n",
    "    total_deg = array[4]\n",
    "    autre = 1\n",
    "    if V == 2 and E == 1:\n",
    "        bingo = 'G0'\n",
    "        autre = 0\n",
    "    if V == 3 and E == 2:\n",
    "        bingo = 'G1'\n",
    "        autre = 0\n",
    "    if V == 3 and E == 3:\n",
    "        bingo = 'G2'\n",
    "        autre = 0\n",
    "    if V == 4 and E == 3 and max_deg == 3: #not sure if these are the only three necessary conditions to identify G4\n",
    "        bingo = 'G4'\n",
    "        autre = 0\n",
    "    if V == 4 and E == 4 and min_deg == 3 and max_deg == 3:\n",
    "        bingo = 'G6'\n",
    "        autre = 0\n",
    "    if V == 4 and E == 5 and min_deg == 2 and max_deg == 3:\n",
    "        bingo = 'G7'\n",
    "        autre = 0\n",
    "    if V == 4 and E == 6:\n",
    "        bingo = 'G9'\n",
    "        autre = 0\n",
    "    if V == 5 and E == 6 and min_deg == 2 and max_deg == 3:\n",
    "        bingo = 'G21'\n",
    "        autre = 0\n",
    "    if autre == 1:\n",
    "        bingo = \"unidentified graph\"\n",
    "    print(bingo)\n",
    "    return(bingo)\n",
    "\n",
    "def percentage_identified(n):\n",
    "    \"\"\"generate n sample of each k-node graphlet for k=2,3,4,5, identify them, show percentage of identified\"\"\"\n",
    "    #n samples of each k-graphlet\n",
    "    win = []\n",
    "    for i in range(len(generate_2345_graphlets(n))):\n",
    "        if T(P(generate_2345_graphlets(n)[i])) != \"unidentified graph\":\n",
    "            win.append(1)\n",
    "    print(int(np.array(win).sum()/len(generate_2345_graphlets(n))*100), \"%\")\n",
    "    return(int(np.array(win).sum()/len(generate_2345_graphlets(n))*100))"
   ]
  },
  {
   "cell_type": "code",
   "execution_count": 58,
   "id": "chemical-spiritual",
   "metadata": {
    "scrolled": false
   },
   "outputs": [
    {
     "data": {
      "text/plain": [
       "[array([[0, 1, 0],\n",
       "        [1, 0, 0],\n",
       "        [0, 0, 0]]),\n",
       " array([[0, 1, 1],\n",
       "        [1, 0, 0],\n",
       "        [1, 0, 0]])]"
      ]
     },
     "execution_count": 58,
     "metadata": {},
     "output_type": "execute_result"
    }
   ],
   "source": [
    "#given integers k number of nodes, and n number of graphs, returns array of n adjacency matrices of k node graphlets\n",
    "random_n_adj(3,2)"
   ]
  },
  {
   "cell_type": "code",
   "execution_count": 59,
   "id": "earned-throw",
   "metadata": {},
   "outputs": [
    {
     "data": {
      "text/plain": [
       "array([<Graph object, undirected, with 3 vertices and 4 edges at 0x10e4ed460>,\n",
       "       <Graph object, undirected, with 3 vertices and 3 edges at 0x1647f87f0>],\n",
       "      dtype=object)"
      ]
     },
     "execution_count": 59,
     "metadata": {},
     "output_type": "execute_result"
    }
   ],
   "source": [
    "#given integers k number of node, and n number of graphs, returns array of n graph_tool graphs of k nodes\n",
    "generate_n_graphlets(3, 2)"
   ]
  },
  {
   "cell_type": "code",
   "execution_count": 60,
   "id": "universal-mileage",
   "metadata": {},
   "outputs": [],
   "source": [
    "#given integer k number of nodes, generate a graph_tool graphlet of k nodes and return it\n",
    "G = generate_graphlet(4) "
   ]
  },
  {
   "cell_type": "code",
   "execution_count": 61,
   "id": "adolescent-magic",
   "metadata": {},
   "outputs": [
    {
     "data": {
      "image/png": "[encoded data removed]",
      "text/plain": [
       "<IPython.core.display.Image object>"
      ]
     },
     "metadata": {},
     "output_type": "display_data"
    },
    {
     "data": {
      "text/plain": [
       "array([ 4,  5,  2,  3, 10])"
      ]
     },
     "execution_count": 61,
     "metadata": {},
     "output_type": "execute_result"
    }
   ],
   "source": [
    "#given graph_tool graph, returns 5 integers that are the graphlet's profile characteristics\n",
    "\n",
    "P(G)"
   ]
  },
  {
   "cell_type": "code",
   "execution_count": 62,
   "id": "behavioral-sewing",
   "metadata": {},
   "outputs": [
    {
     "name": "stdout",
     "output_type": "stream",
     "text": [
      "unidentified graph\n"
     ]
    },
    {
     "data": {
      "text/plain": [
       "'unidentified graph'"
      ]
     },
     "execution_count": 62,
     "metadata": {},
     "output_type": "execute_result"
    }
   ],
   "source": [
    "#T returns graphlet name, given graphlet's profile characteristics\n",
    "T(np.array([ 5,  7,  2,  3, 14]))"
   ]
  },
  {
   "cell_type": "code",
   "execution_count": 63,
   "id": "arranged-resolution",
   "metadata": {},
   "outputs": [
    {
     "data": {
      "image/png": "[encoded data removed]",
      "text/plain": [
       "<IPython.core.display.Image object>"
      ]
     },
     "metadata": {},
     "output_type": "display_data"
    },
    {
     "name": "stdout",
     "output_type": "stream",
     "text": [
      "G7\n"
     ]
    },
    {
     "data": {
      "text/plain": [
       "'G7'"
      ]
     },
     "execution_count": 63,
     "metadata": {},
     "output_type": "execute_result"
    }
   ],
   "source": [
    "#given graph_tool graph, returns graphlet name  \n",
    "T(P(G))"
   ]
  },
  {
   "cell_type": "code",
   "execution_count": null,
   "id": "affected-assist",
   "metadata": {},
   "outputs": [],
   "source": []
  },
  {
   "cell_type": "code",
   "execution_count": null,
   "id": "fancy-cemetery",
   "metadata": {},
   "outputs": [],
   "source": []
  },
  {
   "cell_type": "code",
   "execution_count": null,
   "id": "unusual-redhead",
   "metadata": {},
   "outputs": [],
   "source": []
  },
  {
   "cell_type": "code",
   "execution_count": 74,
   "id": "regulation-taylor",
   "metadata": {},
   "outputs": [
    {
     "data": {
      "image/png": "[encoded data removed]",
      "text/plain": [
       "<IPython.core.display.Image object>"
      ]
     },
     "metadata": {},
     "output_type": "display_data"
    },
    {
     "name": "stdout",
     "output_type": "stream",
     "text": [
      "unidentified graph\n"
     ]
    },
    {
     "data": {
      "image/png": "[encoded data removed]",
      "text/plain": [
       "<IPython.core.display.Image object>"
      ]
     },
     "metadata": {},
     "output_type": "display_data"
    },
    {
     "name": "stdout",
     "output_type": "stream",
     "text": [
      "unidentified graph\n"
     ]
    },
    {
     "data": {
      "image/png": "[encoded data removed]",
      "text/plain": [
       "<IPython.core.display.Image object>"
      ]
     },
     "metadata": {},
     "output_type": "display_data"
    },
    {
     "name": "stdout",
     "output_type": "stream",
     "text": [
      "unidentified graph\n"
     ]
    },
    {
     "data": {
      "image/png": "[encoded data removed]",
      "text/plain": [
       "<IPython.core.display.Image object>"
      ]
     },
     "metadata": {},
     "output_type": "display_data"
    },
    {
     "name": "stdout",
     "output_type": "stream",
     "text": [
      "G2\n"
     ]
    },
    {
     "data": {
      "image/png": "[encoded data removed]",
      "text/plain": [
       "<IPython.core.display.Image object>"
      ]
     },
     "metadata": {},
     "output_type": "display_data"
    },
    {
     "name": "stdout",
     "output_type": "stream",
     "text": [
      "unidentified graph\n"
     ]
    },
    {
     "data": {
      "image/png": "[encoded data removed]",
      "text/plain": [
       "<IPython.core.display.Image object>"
      ]
     },
     "metadata": {},
     "output_type": "display_data"
    },
    {
     "name": "stdout",
     "output_type": "stream",
     "text": [
      "unidentified graph\n"
     ]
    },
    {
     "data": {
      "image/png": "[encoded data removed]",
      "text/plain": [
       "<IPython.core.display.Image object>"
      ]
     },
     "metadata": {},
     "output_type": "display_data"
    },
    {
     "name": "stdout",
     "output_type": "stream",
     "text": [
      "G2\n"
     ]
    },
    {
     "data": {
      "image/png": "[encoded data removed]",
      "text/plain": [
       "<IPython.core.display.Image object>"
      ]
     },
     "metadata": {},
     "output_type": "display_data"
    },
    {
     "name": "stdout",
     "output_type": "stream",
     "text": [
      "unidentified graph\n"
     ]
    },
    {
     "data": {
      "image/png": "[encoded data removed]",
      "text/plain": [
       "<IPython.core.display.Image object>"
      ]
     },
     "metadata": {},
     "output_type": "display_data"
    },
    {
     "name": "stdout",
     "output_type": "stream",
     "text": [
      "unidentified graph\n"
     ]
    },
    {
     "data": {
      "image/png": "[encoded data removed]",
      "text/plain": [
       "<IPython.core.display.Image object>"
      ]
     },
     "metadata": {},
     "output_type": "display_data"
    },
    {
     "name": "stdout",
     "output_type": "stream",
     "text": [
      "unidentified graph\n"
     ]
    },
    {
     "data": {
      "image/png": "[encoded data removed]",
      "text/plain": [
       "<IPython.core.display.Image object>"
      ]
     },
     "metadata": {},
     "output_type": "display_data"
    },
    {
     "name": "stdout",
     "output_type": "stream",
     "text": [
      "unidentified graph\n"
     ]
    },
    {
     "data": {
      "image/png": "[encoded data removed]",
      "text/plain": [
       "<IPython.core.display.Image object>"
      ]
     },
     "metadata": {},
     "output_type": "display_data"
    },
    {
     "name": "stdout",
     "output_type": "stream",
     "text": [
      "unidentified graph\n"
     ]
    },
    {
     "data": {
      "image/png": "[encoded data removed]",
      "text/plain": [
       "<IPython.core.display.Image object>"
      ]
     },
     "metadata": {},
     "output_type": "display_data"
    },
    {
     "name": "stdout",
     "output_type": "stream",
     "text": [
      "G2\n"
     ]
    },
    {
     "data": {
      "image/png": "[encoded data removed]",
      "text/plain": [
       "<IPython.core.display.Image object>"
      ]
     },
     "metadata": {},
     "output_type": "display_data"
    },
    {
     "name": "stdout",
     "output_type": "stream",
     "text": [
      "unidentified graph\n",
      "21 %\n"
     ]
    },
    {
     "data": {
      "image/png": "[encoded data removed]",
      "text/plain": [
       "<IPython.core.display.Image object>"
      ]
     },
     "metadata": {},
     "output_type": "display_data"
    },
    {
     "name": "stdout",
     "output_type": "stream",
     "text": [
      "unidentified graph\n"
     ]
    },
    {
     "data": {
      "image/png": "[encoded data removed]",
      "text/plain": [
       "<IPython.core.display.Image object>"
      ]
     },
     "metadata": {},
     "output_type": "display_data"
    },
    {
     "name": "stdout",
     "output_type": "stream",
     "text": [
      "G2\n"
     ]
    },
    {
     "data": {
      "image/png": "[encoded data removed]",
      "text/plain": [
       "<IPython.core.display.Image object>"
      ]
     },
     "metadata": {},
     "output_type": "display_data"
    },
    {
     "name": "stdout",
     "output_type": "stream",
     "text": [
      "unidentified graph\n"
     ]
    },
    {
     "data": {
      "image/png": "[encoded data removed]",
      "text/plain": [
       "<IPython.core.display.Image object>"
      ]
     },
     "metadata": {},
     "output_type": "display_data"
    },
    {
     "name": "stdout",
     "output_type": "stream",
     "text": [
      "G2\n"
     ]
    },
    {
     "data": {
      "image/png": "[encoded data removed]",
      "text/plain": [
       "<IPython.core.display.Image object>"
      ]
     },
     "metadata": {},
     "output_type": "display_data"
    },
    {
     "name": "stdout",
     "output_type": "stream",
     "text": [
      "unidentified graph\n"
     ]
    },
    {
     "data": {
      "image/png": "[encoded data removed]",
      "text/plain": [
       "<IPython.core.display.Image object>"
      ]
     },
     "metadata": {},
     "output_type": "display_data"
    },
    {
     "name": "stdout",
     "output_type": "stream",
     "text": [
      "G2\n"
     ]
    },
    {
     "data": {
      "image/png": "[encoded data removed]",
      "text/plain": [
       "<IPython.core.display.Image object>"
      ]
     },
     "metadata": {},
     "output_type": "display_data"
    },
    {
     "name": "stdout",
     "output_type": "stream",
     "text": [
      "unidentified graph\n"
     ]
    },
    {
     "data": {
      "image/png": "[encoded data removed]",
      "text/plain": [
       "<IPython.core.display.Image object>"
      ]
     },
     "metadata": {},
     "output_type": "display_data"
    },
    {
     "name": "stdout",
     "output_type": "stream",
     "text": [
      "unidentified graph\n"
     ]
    },
    {
     "data": {
      "image/png": "[encoded data removed]",
      "text/plain": [
       "<IPython.core.display.Image object>"
      ]
     },
     "metadata": {},
     "output_type": "display_data"
    },
    {
     "name": "stdout",
     "output_type": "stream",
     "text": [
      "unidentified graph\n"
     ]
    },
    {
     "data": {
      "image/png": "[encoded data removed]",
      "text/plain": [
       "<IPython.core.display.Image object>"
      ]
     },
     "metadata": {},
     "output_type": "display_data"
    },
    {
     "name": "stdout",
     "output_type": "stream",
     "text": [
      "unidentified graph\n"
     ]
    },
    {
     "data": {
      "image/png": "[encoded data removed]",
      "text/plain": [
       "<IPython.core.display.Image object>"
      ]
     },
     "metadata": {},
     "output_type": "display_data"
    },
    {
     "name": "stdout",
     "output_type": "stream",
     "text": [
      "unidentified graph\n"
     ]
    },
    {
     "data": {
      "image/png": "[encoded data removed]",
      "text/plain": [
       "<IPython.core.display.Image object>"
      ]
     },
     "metadata": {},
     "output_type": "display_data"
    },
    {
     "name": "stdout",
     "output_type": "stream",
     "text": [
      "unidentified graph\n"
     ]
    },
    {
     "data": {
      "image/png": "[encoded data removed]",
      "text/plain": [
       "<IPython.core.display.Image object>"
      ]
     },
     "metadata": {},
     "output_type": "display_data"
    },
    {
     "name": "stdout",
     "output_type": "stream",
     "text": [
      "unidentified graph\n"
     ]
    },
    {
     "data": {
      "image/png": "[encoded data removed]",
      "text/plain": [
       "<IPython.core.display.Image object>"
      ]
     },
     "metadata": {},
     "output_type": "display_data"
    },
    {
     "name": "stdout",
     "output_type": "stream",
     "text": [
      "unidentified graph\n",
      "21 %\n",
      "mean percentage of identified graphlets 21.0\n",
      "duration is =  1 s\n"
     ]
    }
   ],
   "source": [
    "#generate a lot of graphlets k node graphlets, identify them, return percentage identified \n",
    "import time\n",
    "\n",
    "k = 3\n",
    "\n",
    "s = time.time()\n",
    "moyenne = []\n",
    "for i in range(2):\n",
    "    moyenne.append(percentage_identified(k))\n",
    "    \n",
    "print(\"mean percentage of identified graphlets\",np.array(moyenne).mean())\n",
    "print(\"duration is = \",int(time.time()-s),\"s\")"
   ]
  },
  {
   "cell_type": "code",
   "execution_count": null,
   "id": "loaded-grass",
   "metadata": {},
   "outputs": [],
   "source": []
  },
  {
   "cell_type": "code",
   "execution_count": null,
   "id": "expired-fitness",
   "metadata": {},
   "outputs": [],
   "source": []
  }
 ],
 "metadata": {
  "kernelspec": {
   "display_name": "Python 3",
   "language": "python",
   "name": "python3"
  },
  "language_info": {
   "codemirror_mode": {
    "name": "ipython",
    "version": 3
   },
   "file_extension": ".py",
   "mimetype": "text/x-python",
   "name": "python",
   "nbconvert_exporter": "python",
   "pygments_lexer": "ipython3",
   "version": "3.8.5"
  }
 },
 "nbformat": 4,
 "nbformat_minor": 5
}
