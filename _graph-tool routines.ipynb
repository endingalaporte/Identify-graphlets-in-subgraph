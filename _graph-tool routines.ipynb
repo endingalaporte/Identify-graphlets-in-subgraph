{
 "cells": [
  {
   "cell_type": "code",
   "execution_count": 1,
   "id": "neural-frequency",
   "metadata": {},
   "outputs": [
    {
     "name": "stderr",
     "output_type": "stream",
     "text": [
      "/Users/endingalaporte/Documents/python/miniconda3/envs/jupyternotebookenv/lib/python3.8/site-packages/graph_tool/draw/cairo_draw.py:1494: RuntimeWarning: Error importing Gtk module: No module named 'gi'; GTK+ drawing will not work.\n",
      "  warnings.warn(msg, RuntimeWarning)\n"
     ]
    }
   ],
   "source": [
    "#import libraries\n",
    "import graph_tool as gt\n",
    "import graph_tool.draw as gtd\n",
    "import graph_tool.topology as gtt\n",
    "import numpy as np\n",
    "\n",
    "#create graph object\n",
    "G = gt.Graph(directed = False)\n",
    "G.add_edge_list([(0,1),(1,2),(2,3),(3,0),(3,4),(0,5),(4,6)])\n",
    "#set of edges objects\n",
    "E = list(G.edges())\n",
    "#set f vertices objects\n",
    "V = list(G.vertices())"
   ]
  },
  {
   "cell_type": "code",
   "execution_count": 2,
   "id": "heavy-trinidad",
   "metadata": {},
   "outputs": [
    {
     "data": {
      "text/plain": [
       "[<Vertex object with index '0' at 0x15f80cc90>,\n",
       " <Vertex object with index '1' at 0x15f80ccf0>,\n",
       " <Vertex object with index '2' at 0x15f80cd50>,\n",
       " <Vertex object with index '3' at 0x15f80cdb0>,\n",
       " <Vertex object with index '4' at 0x15f80ce10>,\n",
       " <Vertex object with index '5' at 0x15f80ce70>,\n",
       " <Vertex object with index '6' at 0x15f80ced0>]"
      ]
     },
     "execution_count": 2,
     "metadata": {},
     "output_type": "execute_result"
    }
   ],
   "source": [
    "V"
   ]
  },
  {
   "cell_type": "code",
   "execution_count": 3,
   "id": "annual-writing",
   "metadata": {},
   "outputs": [
    {
     "data": {
      "text/plain": [
       "[<Edge object with source '0' and target '1' at 0x15f7f5e30>,\n",
       " <Edge object with source '0' and target '5' at 0x15f7f5eb0>,\n",
       " <Edge object with source '1' and target '2' at 0x15f7f5ab0>,\n",
       " <Edge object with source '2' and target '3' at 0x15f7f5f30>,\n",
       " <Edge object with source '3' and target '0' at 0x15f81d030>,\n",
       " <Edge object with source '3' and target '4' at 0x15f81d0b0>,\n",
       " <Edge object with source '4' and target '6' at 0x15f81d130>]"
      ]
     },
     "execution_count": 3,
     "metadata": {},
     "output_type": "execute_result"
    }
   ],
   "source": [
    "E"
   ]
  },
  {
   "cell_type": "code",
   "execution_count": 4,
   "id": "accepted-garlic",
   "metadata": {},
   "outputs": [
    {
     "name": "stdout",
     "output_type": "stream",
     "text": [
      "shortest path between node 1 and node 6 passes by nodes\n"
     ]
    },
    {
     "data": {
      "text/plain": [
       "[<Vertex object with index '1' at 0x15f81e810>,\n",
       " <Vertex object with index '2' at 0x15f81e2d0>,\n",
       " <Vertex object with index '3' at 0x15f81e750>,\n",
       " <Vertex object with index '4' at 0x15f80cf30>,\n",
       " <Vertex object with index '6' at 0x15f80ced0>]"
      ]
     },
     "execution_count": 4,
     "metadata": {},
     "output_type": "execute_result"
    }
   ],
   "source": [
    "#shortest path\n",
    "source = V[1]\n",
    "target = V[6]\n",
    "print(\"shortest path between node\",source ,\"and node\",target ,\"passes by nodes\")\n",
    "gtt.shortest_path(G, source , target)[0]"
   ]
  },
  {
   "cell_type": "code",
   "execution_count": 5,
   "id": "widespread-liquid",
   "metadata": {
    "scrolled": true
   },
   "outputs": [
    {
     "name": "stdout",
     "output_type": "stream",
     "text": [
      "degree of u is 3\n"
     ]
    }
   ],
   "source": [
    "#degree of u\n",
    "u = V[3]\n",
    "print(\"degree of u is\", u.in_degree() + u.out_degree())"
   ]
  },
  {
   "cell_type": "code",
   "execution_count": 8,
   "id": "enclosed-james",
   "metadata": {},
   "outputs": [
    {
     "data": {
      "image/png": "[encoded data removed]",
      "text/plain": [
       "<IPython.core.display.Image object>"
      ]
     },
     "metadata": {},
     "output_type": "display_data"
    },
    {
     "data": {
      "text/plain": [
       "<VertexPropertyMap object with value type 'vector<double>', for Graph 0x109554be0, at 0x15f8367f0>"
      ]
     },
     "execution_count": 8,
     "metadata": {},
     "output_type": "execute_result"
    }
   ],
   "source": [
    "#plot G\n",
    "gtd.graph_draw(G, output_size = (200,200), \n",
    "               vertex_text = G.vertex_index, edge_text = G.edge_index)"
   ]
  },
  {
   "cell_type": "code",
   "execution_count": 7,
   "id": "acknowledged-profession",
   "metadata": {},
   "outputs": [
    {
     "name": "stdout",
     "output_type": "stream",
     "text": [
      "neighbors of u are\n"
     ]
    },
    {
     "data": {
      "text/plain": [
       "[<Vertex object with index '0' at 0x15f81e210>,\n",
       " <Vertex object with index '4' at 0x15f81ee70>,\n",
       " <Vertex object with index '2' at 0x15f81e510>]"
      ]
     },
     "execution_count": 7,
     "metadata": {},
     "output_type": "execute_result"
    }
   ],
   "source": [
    "#neighbors of u\n",
    "print(\"neighbors of u are\")\n",
    "list(u.all_neighbors())"
   ]
  }
 ],
 "metadata": {
  "kernelspec": {
   "display_name": "Python 3",
   "language": "python",
   "name": "python3"
  },
  "language_info": {
   "codemirror_mode": {
    "name": "ipython",
    "version": 3
   },
   "file_extension": ".py",
   "mimetype": "text/x-python",
   "name": "python",
   "nbconvert_exporter": "python",
   "pygments_lexer": "ipython3",
   "version": "3.8.5"
  }
 },
 "nbformat": 4,
 "nbformat_minor": 5
}
